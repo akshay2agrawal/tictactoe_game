{
 "cells": [
  {
   "cell_type": "code",
   "execution_count": 1,
   "id": "assumed-lucas",
   "metadata": {},
   "outputs": [],
   "source": [
    "def print_board():\n",
    "    cnt = 0\n",
    "    for _ in range(3):\n",
    "        for _ in range(3):\n",
    "            print(f\" {board[cnt]}\", end = \"\")\n",
    "            cnt += 1\n",
    "        print(\"\\n\")\n",
    "        \n",
    "#board = ['_ ']*9\n",
    "#board = ['X ', 'O ']*4 + ['X ']\n",
    "#board[4] = \"X \""
   ]
  },
  {
   "cell_type": "code",
   "execution_count": 2,
   "id": "opposed-fraud",
   "metadata": {},
   "outputs": [],
   "source": [
    "def player_input(player_number):\n",
    "    print(f\"Turn for Player {player_number}\")\n",
    "    flag = True\n",
    "    while flag:         \n",
    "        position  = input(\"Enter your position from 1-9: \")\n",
    "        if position.isdigit():\n",
    "            if int(position) in range(1,10):\n",
    "                if board[int(position)-1] != '_ ':\n",
    "                    print('Value already given. Choose another position ')\n",
    "                else:\n",
    "                    flag = False\n",
    "            else:\n",
    "                print(\"Invalid I/P: not in range 1-9\")\n",
    "            \n",
    "        else:\n",
    "            print(\"Invalid I/P: not a number\")\n",
    "    \n",
    "    return int(position)"
   ]
  },
  {
   "cell_type": "code",
   "execution_count": 3,
   "id": "junior-helmet",
   "metadata": {},
   "outputs": [],
   "source": [
    "def update_board(input_index, player_number):\n",
    "    if player_number == 1:\n",
    "        board[input_index] = 'X '\n",
    "    else:\n",
    "        board[input_index] = 'O '"
   ]
  },
  {
   "cell_type": "code",
   "execution_count": 4,
   "id": "victorian-variance",
   "metadata": {},
   "outputs": [],
   "source": [
    "#print_board(board)\n",
    "def update_checklist():\n",
    "    #print('inside checkllist function')\n",
    "    checklist = [board[:3]] + [board[3:6]] + [board[6:]] + [board[::3]] + [board[1::3]] + [board[2::3]] + [board[::4]] + [board[2:8:2]]\n",
    "    return checklist"
   ]
  },
  {
   "cell_type": "code",
   "execution_count": 5,
   "id": "funky-collar",
   "metadata": {
    "scrolled": true
   },
   "outputs": [],
   "source": [
    "def game_over(xo):\n",
    "    return ([xo]* 3 in checklist)\n",
    "           "
   ]
  },
  {
   "cell_type": "code",
   "execution_count": 6,
   "id": "working-production",
   "metadata": {},
   "outputs": [],
   "source": [
    "from IPython.display import clear_output\n",
    "\n",
    "print('Welcome to the game of TIC - TAC ')\n",
    "board = ['_ ']*9\n",
    "player_number = 1\n",
    "player_symbol = ['X ', 'O ' ]\n",
    "input_index = None\n",
    "checklist = []\n",
    "\n",
    "while True:\n",
    "    print_board()\n",
    "    #Player \n",
    "    input_index = player_input(player_number) - 1\n",
    "    update_board(input_index, player_number)\n",
    "    checklist = update_checklist()\n",
    "    \n",
    "    #If gameover reset board and ask again\n",
    "    if game_over(player_symbol[player_number-1]):\n",
    "        print(f'Player {player_number} has won the game')\n",
    "        board = ['_ ']*9\n",
    "        play_again = input('Do you wanna play again? Y/N: ')\n",
    "        if play_again == 'N':\n",
    "            clear_output()\n",
    "            break\n",
    "    else:\n",
    "        #if not over, its the other player's turn \n",
    "        if player_number == 1: \n",
    "            player_number = 2\n",
    "        else:\n",
    "            player_number = 1\n",
    "    \n",
    "    #TIE check\n",
    "    if '_ ' not in board:\n",
    "        print_board()\n",
    "        print(\"The match is a tie\")\n",
    "        board = ['_ ']*9\n",
    "        play_again = input('Do you wanna play again? Y/N: ')\n",
    "        if play_again == 'N':\n",
    "            clear_output()\n",
    "            break   \n",
    "    "
   ]
  },
  {
   "cell_type": "code",
   "execution_count": null,
   "id": "sunset-electric",
   "metadata": {},
   "outputs": [],
   "source": []
  }
 ],
 "metadata": {
  "kernelspec": {
   "display_name": "Python 3",
   "language": "python",
   "name": "python3"
  },
  "language_info": {
   "codemirror_mode": {
    "name": "ipython",
    "version": 3
   },
   "file_extension": ".py",
   "mimetype": "text/x-python",
   "name": "python",
   "nbconvert_exporter": "python",
   "pygments_lexer": "ipython3",
   "version": "3.7.10"
  }
 },
 "nbformat": 4,
 "nbformat_minor": 5
}
